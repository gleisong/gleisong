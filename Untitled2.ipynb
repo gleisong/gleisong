{
  "nbformat": 4,
  "nbformat_minor": 0,
  "metadata": {
    "colab": {
      "provenance": [],
      "authorship_tag": "ABX9TyNjxigRK37rpK2jIiaPtL44",
      "include_colab_link": true
    },
    "kernelspec": {
      "name": "python3",
      "display_name": "Python 3"
    },
    "language_info": {
      "name": "python"
    }
  },
  "cells": [
    {
      "cell_type": "markdown",
      "metadata": {
        "id": "view-in-github",
        "colab_type": "text"
      },
      "source": [
        "<a href=\"https://colab.research.google.com/github/gleisong/gleisong/blob/main/Untitled2.ipynb\" target=\"_parent\"><img src=\"https://colab.research.google.com/assets/colab-badge.svg\" alt=\"Open In Colab\"/></a>"
      ]
    },
    {
      "cell_type": "code",
      "source": [
        "pip install odfpy"
      ],
      "metadata": {
        "colab": {
          "base_uri": "https://localhost:8080/"
        },
        "id": "Mi2o05EJAn5h",
        "outputId": "b5f8e2f6-351a-455f-e270-8c9c5f56ba81"
      },
      "execution_count": 15,
      "outputs": [
        {
          "output_type": "stream",
          "name": "stdout",
          "text": [
            "Requirement already satisfied: odfpy in /usr/local/lib/python3.10/dist-packages (1.4.1)\n",
            "Requirement already satisfied: defusedxml in /usr/local/lib/python3.10/dist-packages (from odfpy) (0.7.1)\n"
          ]
        }
      ]
    },
    {
      "cell_type": "code",
      "execution_count": 16,
      "metadata": {
        "colab": {
          "base_uri": "https://localhost:8080/"
        },
        "id": "qIGP2ALI2IXs",
        "outputId": "cd6a5abc-e652-417f-9e70-6861a14cd241"
      },
      "outputs": [
        {
          "output_type": "stream",
          "name": "stdout",
          "text": [
            "Nome do aluno:gleison\n",
            "Idade do aluno:33\n",
            "nota do aluno :9\n",
            "Aluno adicionado com sucesso!\n"
          ]
        }
      ],
      "source": [
        "import pandas as pd\n",
        "\n",
        "# add novos alunos\n",
        "nome = input(\"Nome do aluno:\")\n",
        "idade = int(input('Idade do aluno:'))\n",
        "nota = float(input('nota do aluno :'))\n",
        "\n",
        "# novo data frame\n",
        "novos_alunos = pd.DataFrame({\n",
        "    'Nome':  [nome],\n",
        "    'Idade': [idade],\n",
        "    'Notas': [nota]\n",
        "})\n",
        "\n",
        "\n",
        "# importando o arquivo\n",
        "dados_alunos = pd.read_excel('Alunos.ods')\n",
        "\n",
        "# navegando pela tabela\n",
        "colunas_desejadas = ['Nome', 'Notas']\n",
        "dadosSelecionadas = dados_alunos[colunas_desejadas]\n",
        "valores = dadosSelecionadas.values.tolist()\n",
        "\n",
        "# filtrar dados\n",
        "dados_filtrados = dados_alunos[dados_alunos['Idade'] > 10]\n",
        "\n",
        "\n",
        "\n",
        "\n",
        "# mensagem a alunos com notas boas\n",
        "\n",
        "dados_alunos['mensagem'] = ''\n",
        "dados_alunos.loc[dados_alunos['Notas'] >= 8, 'mensagem'] = 'Parabens! Boa Nota, continue assim'\n",
        "dados_alunos.loc[dados_alunos['Notas'] <= 8, 'mensagem'] = ' Não desista!, você consegue'\n",
        "\n",
        "\n",
        "dados_alunos = pd.concat([dados_alunos, novos_alunos], ignore_index=True)\n",
        "\n",
        "dados_alunos.to_excel('Alunos.ods', index=False)\n",
        "print('Aluno adicionado com sucesso!')"
      ]
    }
  ]
}